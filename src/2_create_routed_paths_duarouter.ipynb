{
 "cells": [
  {
   "cell_type": "markdown",
   "id": "f15566b3",
   "metadata": {},
   "source": [
    "# 2 Create Routed Paths Duarouter\n",
    "\n",
    "The goal of the following notebook is to compute the Routed Paths from a Mobility Demand using Duarouter as the routing algorithm.\n",
    "___"
   ]
  },
  {
   "cell_type": "code",
   "execution_count": 14,
   "id": "41b3826b",
   "metadata": {},
   "outputs": [],
   "source": [
    "from utils import call_duarouter_command\n",
    "import json\n",
    "import numpy as np\n",
    "import warnings\n",
    "import os\n",
    "\n",
    "warnings.filterwarnings(\"ignore\")"
   ]
  },
  {
   "cell_type": "markdown",
   "id": "6f1d8db6",
   "metadata": {},
   "source": [
    "### Parameters"
   ]
  },
  {
   "cell_type": "code",
   "execution_count": 17,
   "id": "55f9ec36",
   "metadata": {},
   "outputs": [],
   "source": [
    "city = \"milan\"\n",
    "\n",
    "# mobility demand path\n",
    "mobility_demand_filename = f\"../data/{city}/mobility_demand/mobility_demand_{city}.rou.xml\"\n",
    "\n",
    "# road network path\n",
    "road_network_path = f\"../data/{city}/{city}_road_network.net.xml\"\n",
    "\n",
    "list_of_rand_factors = [1, 2.5]#, 5, 7.5, 10, 12.5, 15, 17.5, 20]"
   ]
  },
  {
   "cell_type": "markdown",
   "id": "32b7f42a",
   "metadata": {},
   "source": [
    "### Create Routed Paths Duarouter\n",
    "\n",
    "take the mobility demand (defined as trips) and convert it into traffic demans using duarouter and different randomization factors w."
   ]
  },
  {
   "cell_type": "code",
   "execution_count": 18,
   "id": "07f151fb",
   "metadata": {},
   "outputs": [
    {
     "name": "stdout",
     "output_type": "stream",
     "text": [
      "Created the routed demand [duarouter]: ../data/milan/routed_paths/routed_paths_duarouterW1_milan.rou.xml\n",
      "Created the routed demand [duarouter]: ../data/milan/routed_paths/routed_paths_duarouterW2p5_milan.rou.xml\n"
     ]
    }
   ],
   "source": [
    "for w in list_of_rand_factors:\n",
    "    \n",
    "    w_filename = str(w).replace(\".\",\"p\")\n",
    "    \n",
    "    output_demand_filename = f\"../data/{city}/routed_paths/routed_paths_duarouterW{w_filename}_{city}.rou.xml\"\n",
    "    \n",
    "    seed_duarouter = np.random.randint(0, 9999999)\n",
    "\n",
    "    options_duarouter = \"--weights.random-factor \"+str(w)+\" --max-alternatives 10 --remove-loops \"+rm_loops+\" \"\\\n",
    "    \"--weights.interpolate true --weights.minor-penalty 0  \"\\\n",
    "    \"--routing-threads 8\"\n",
    "    \n",
    "    command_str = \"duarouter --route-files \"+mobility_demand_filename+\" \"+\\\n",
    "        \" --net-file \"+road_network_path+\" \"+options_duarouter+\\\n",
    "    \" --random false --seed \"+str(seed_duarouter)+\\\n",
    "    \" --output-file \"+output_demand_filename\n",
    "\n",
    "    # call duarouter process\n",
    "    call_duarouter_command(command_str)\n",
    "\n",
    "    # remove .alt file\n",
    "    os.remove(output_demand_filename.split(\".rou\")[0]+\".rou.alt\"+output_demand_filename.split(\".rou\")[1])\n",
    "\n",
    "    print(\"Created the routed demand [duarouter]: \"+output_demand_filename)"
   ]
  },
  {
   "cell_type": "code",
   "execution_count": null,
   "id": "718421e8",
   "metadata": {},
   "outputs": [],
   "source": []
  }
 ],
 "metadata": {
  "kernelspec": {
   "display_name": "Python 3 (ipykernel)",
   "language": "python",
   "name": "python3"
  },
  "language_info": {
   "codemirror_mode": {
    "name": "ipython",
    "version": 3
   },
   "file_extension": ".py",
   "mimetype": "text/x-python",
   "name": "python",
   "nbconvert_exporter": "python",
   "pygments_lexer": "ipython3",
   "version": "3.9.7"
  }
 },
 "nbformat": 4,
 "nbformat_minor": 5
}
