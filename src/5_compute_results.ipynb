{
 "cells": [
  {
   "cell_type": "code",
   "execution_count": null,
   "id": "a2a4ef3f",
   "metadata": {},
   "outputs": [],
   "source": [
    "import json\n",
    "from result_utils import create_dict_exps, create_dict_results_total, create_dict_results_entropy\n",
    "import numpy as np\n",
    "import sumolib\n",
    "from numpyencoder import NumpyEncoder"
   ]
  },
  {
   "cell_type": "markdown",
   "id": "b1dd2b75",
   "metadata": {},
   "source": [
    "## Compute Results"
   ]
  },
  {
   "cell_type": "code",
   "execution_count": null,
   "id": "13900549",
   "metadata": {},
   "outputs": [],
   "source": [
    "navigators = [\"w1\", \"w2p5\"]#, \"w5\", \"w7p5\", \"w10\", \"w12p5\", \"w15\", \"w17p5\", \"w20\"]\n",
    "\n",
    "city = \"milan\"\n",
    "\n",
    "folder_experiments = \"../sim_outputs\"\n",
    "\n",
    "output_folder = \"../results/\"\n",
    "\n",
    "print(city)\n",
    "print(len(set(navigators)))"
   ]
  },
  {
   "cell_type": "code",
   "execution_count": null,
   "id": "cd164931",
   "metadata": {},
   "outputs": [],
   "source": [
    "# road network path\n",
    "\n",
    "road_network_path = f\"../data/{city}/{city}_road_network.net.xml\"\n",
    "road_network_int = sumolib.net.readNet(road_network_path, withInternal=True)\n",
    "\n",
    "len(road_network_int.getEdges())"
   ]
  },
  {
   "cell_type": "code",
   "execution_count": null,
   "id": "70498ecb",
   "metadata": {},
   "outputs": [],
   "source": [
    "dict_length_edges = {}\n",
    "\n",
    "for e in road_network_int.getEdges():\n",
    "    dict_length_edges[e.getID()] = e.getLength()"
   ]
  },
  {
   "cell_type": "code",
   "execution_count": null,
   "id": "19894533",
   "metadata": {
    "scrolled": false
   },
   "outputs": [],
   "source": [
    "%%time\n",
    "\n",
    "final_dict = {}\n",
    "\n",
    "measures_edge = [\"total_co2\"]\n",
    "\n",
    "measures_vehicle = [\"total_traveltime\"]\n",
    "\n",
    "for nav in navigators:\n",
    "    \n",
    "    print(f\"Navigator: {nav}\")\n",
    "        \n",
    "    final_dict[nav] = {\"total\":{}, \"entropy\":{}, \"entropy_normalized\":{}}\n",
    "\n",
    "    \n",
    "    folder_experiments_nav = f\"{folder_experiments}/{city}/{nav}/\"\n",
    "    \n",
    "    dict_exps_nav = create_dict_exps(folder_experiments_nav, \"vehicle\")\n",
    "    \n",
    "    \n",
    "    # edge-based\n",
    "    print(\"edge-based measures\")\n",
    "    for m in measures_edge:       \n",
    "        \n",
    "        for what in final_dict[nav].keys():\n",
    "            \n",
    "            operation = what.split(\"_\")[0]\n",
    "            fun_to_apply = eval(f\"create_dict_results_{operation}\")\n",
    "            \n",
    "            if \"normalized\" in what:\n",
    "                \n",
    "                print(f\"Computing {what} {m} normalized\")\n",
    "\n",
    "                final_dict[nav][what][m] = fun_to_apply(dict_exps_nav, folder_experiments_nav, \n",
    "                                                        m, \"edge\", normalize_by=dict_length_edges)\n",
    "            else:\n",
    "                print(f\"Computing {what} {m}\")\n",
    "\n",
    "                final_dict[nav][what][m] = fun_to_apply(dict_exps_nav, folder_experiments_nav, \n",
    "                                                        m, \"edge\")\n",
    "    \n",
    "    # vehicle-based\n",
    "    print(\"vehicle-based measures\")\n",
    "    for m in measures_vehicle:  \n",
    "                \n",
    "        for what in final_dict[nav].keys():\n",
    "        \n",
    "            operation = what.split(\"_\")[0]\n",
    "            fun_to_apply = eval(f\"create_dict_results_{operation}\")\n",
    "\n",
    "            if \"normalized\" in what:\n",
    "                pass\n",
    "            else:\n",
    "                print(f\"Computing {what} {m}\")\n",
    "                final_dict[nav][what][m] = fun_to_apply(dict_exps_nav, folder_experiments_nav, \n",
    "                                                        m, \"vehicle\")\n",
    "    \n",
    "    \n",
    "    '''\n",
    "    folder_nav_baseline = f\"{folder_experiments}/{city}/baselines/\"\n",
    "    baseline = [f for f in os.listdir(folder_nav_baseline) if nav+\"_\" in f]\n",
    "    d = {\"baseline\":{0:baseline[0]}}\n",
    "    \n",
    "    print(d)\n",
    "    \n",
    "    # baselines\n",
    "    print(\"Baselines\")\n",
    "    \n",
    "    for m in measures_edge:\n",
    "                \n",
    "        for what in final_dict[nav].keys():\n",
    "                        \n",
    "            operation = what.split(\"_\")[0]\n",
    "            fun_to_apply = eval(f\"create_dict_results_{operation}\")\n",
    "            \n",
    "            if \"normalized\" in what:\n",
    "                print(f\"Computing {what} {m} normalized\")\n",
    "\n",
    "                final_dict[nav][what][m][\"baseline\"] = fun_to_apply(d, folder_nav_baseline, \n",
    "                                                        m, \"edge\", normalize_by=dict_length_edges)\n",
    "            else:\n",
    "                print(f\"Computing {what} {m}\")\n",
    "                final_dict[nav][what][m][\"baseline\"] = fun_to_apply(d, folder_nav_baseline, \n",
    "                                                        m, \"edge\")\n",
    "        \n",
    "            \n",
    "        \n",
    "    for m in measures_vehicle:  \n",
    "                             \n",
    "        for what in final_dict[nav].keys():\n",
    "        \n",
    "            operation = what.split(\"_\")[0]\n",
    "            fun_to_apply = eval(f\"create_dict_results_{operation}\")\n",
    "\n",
    "            if \"normalized\" in what:\n",
    "                pass\n",
    "            else:\n",
    "                final_dict[nav][what][m][\"baseline\"] = fun_to_apply(d, folder_nav_baseline, \n",
    "                                                        m, \"vehicle\")\n",
    "    '''"
   ]
  },
  {
   "cell_type": "code",
   "execution_count": null,
   "id": "e6c44ffa",
   "metadata": {},
   "outputs": [],
   "source": [
    "# save the json\n",
    "\n",
    "with open(f'{output_folder}results_{city}.json', 'w') as outfile:\n",
    "    json.dump(final_dict, outfile, cls=NumpyEncoder)"
   ]
  }
 ],
 "metadata": {
  "kernelspec": {
   "display_name": "Python 3 (ipykernel)",
   "language": "python",
   "name": "python3"
  },
  "language_info": {
   "codemirror_mode": {
    "name": "ipython",
    "version": 3
   },
   "file_extension": ".py",
   "mimetype": "text/x-python",
   "name": "python",
   "nbconvert_exporter": "python",
   "pygments_lexer": "ipython3",
   "version": "3.9.7"
  }
 },
 "nbformat": 4,
 "nbformat_minor": 5
}
