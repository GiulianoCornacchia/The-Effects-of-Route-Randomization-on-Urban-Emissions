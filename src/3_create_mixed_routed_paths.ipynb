{
 "cells": [
  {
   "cell_type": "markdown",
   "id": "dee9b611",
   "metadata": {},
   "source": [
    "# 3 Create Mixed Routed Paths\n",
    "\n",
    "The goal of the following notebook is to generate a set of mixed Routed Paths in which we vary the percentage of randomized vehicles.\n",
    "___"
   ]
  },
  {
   "cell_type": "code",
   "execution_count": 1,
   "id": "50d420cb",
   "metadata": {},
   "outputs": [
    {
     "name": "stdout",
     "output_type": "stream",
     "text": [
      "<module 'traci' from 'C:\\\\Program Files (x86)\\\\Eclipse\\\\Sumo\\\\tools\\\\traci\\\\__init__.py'>\n"
     ]
    }
   ],
   "source": [
    "from utils import create_mixed_routed_paths\n",
    "import numpy as np\n",
    "import os"
   ]
  },
  {
   "cell_type": "markdown",
   "id": "5d665305",
   "metadata": {},
   "source": [
    "### Parameters"
   ]
  },
  {
   "cell_type": "code",
   "execution_count": 3,
   "id": "7e35a93a",
   "metadata": {},
   "outputs": [],
   "source": [
    "city = \"milan\"\n",
    "\n",
    "list_of_rand_factors = [1, 2.5]#, 5, 7.5, 10, 12.5, 15, 17.5, 20]\n",
    "\n",
    "# number of vehicles\n",
    "n_totals = 10\n",
    "\n",
    "# number of mixed path for each configuration (number of repetitions)\n",
    "n_reps_min = 0\n",
    "n_reps_max = 2\n",
    "\n",
    "# the list of fractions of vehicles that will be randomized\n",
    "# e.g., 0.4 means that the 40% of vehicles (selected at random) will follow a perturbation of the fastest path\n",
    "fractions = np.arange(0, 1.1, 0.1)\n",
    "fractions = [0, 0.3, 1]"
   ]
  },
  {
   "cell_type": "markdown",
   "id": "2b807532",
   "metadata": {},
   "source": [
    "### Create the mixed routed paths"
   ]
  },
  {
   "cell_type": "code",
   "execution_count": 5,
   "id": "79b86c2a",
   "metadata": {},
   "outputs": [],
   "source": [
    "# routed paths duarouted base\n",
    "routed_demand_duarouter_path = f\"../data/{city}/routed_paths/routed_paths_duarouterW1_{city}.rou.xml\"\n",
    "\n",
    "\n",
    "for w in list_of_rand_factors:\n",
    "    \n",
    "    w_str = str(w).replace(\".\",\"p\")\n",
    "    \n",
    "    prefix_nav = f\"vehicle\"\n",
    "    \n",
    "    # output folder\n",
    "    output_folder = f\"../data/{city}/mixed_routed_paths/mixed_paths_w{w_str}/\"\n",
    "    \n",
    "    if not os.path.exists(output_folder):\n",
    "        os.makedirs(output_folder, exist_ok=True)\n",
    "\n",
    "    # routed demand w\n",
    "    routed_demand_others_path = f\"../data/{city}/routed_paths/routed_paths_duarouterW{w_str}_{city}.rou.xml\"\n",
    "    \n",
    "    create_mixed_routed_paths(fractions, n_reps_min, n_reps_max, output_folder, \n",
    "                              routed_demand_duarouter_path, routed_demand_others_path, \n",
    "                                           n_totals, prefix_nav)\n"
   ]
  }
 ],
 "metadata": {
  "kernelspec": {
   "display_name": "Python 3 (ipykernel)",
   "language": "python",
   "name": "python3"
  },
  "language_info": {
   "codemirror_mode": {
    "name": "ipython",
    "version": 3
   },
   "file_extension": ".py",
   "mimetype": "text/x-python",
   "name": "python",
   "nbconvert_exporter": "python",
   "pygments_lexer": "ipython3",
   "version": "3.9.7"
  }
 },
 "nbformat": 4,
 "nbformat_minor": 5
}
