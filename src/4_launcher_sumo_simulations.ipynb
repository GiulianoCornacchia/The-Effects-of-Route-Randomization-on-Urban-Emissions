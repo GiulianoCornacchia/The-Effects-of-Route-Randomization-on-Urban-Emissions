{
 "cells": [
  {
   "cell_type": "markdown",
   "id": "67ea1a07",
   "metadata": {},
   "source": [
    "# 4 Launcher SUMO simulations"
   ]
  },
  {
   "cell_type": "code",
   "execution_count": null,
   "id": "fe2c7723",
   "metadata": {},
   "outputs": [],
   "source": [
    "import os"
   ]
  },
  {
   "cell_type": "markdown",
   "id": "91bd6a5a",
   "metadata": {},
   "source": [
    "### Parameters"
   ]
  },
  {
   "cell_type": "code",
   "execution_count": null,
   "id": "f8b04563",
   "metadata": {},
   "outputs": [],
   "source": [
    "city = \"milan\"\n",
    "\n",
    "# road network path\n",
    "net_path = f\"../data/{city}/{city}_road_network.net.xml\"\n",
    "\n",
    "# path to folder containing the sumo simulation script\n",
    "path_sumo_script = \"../sumo_simulation_scripts/\"\n",
    "\n",
    "# SUMO options\n",
    "opt =  '\"-W --ignore-junction-blocker 20 --time-to-impatience 30 --time-to-teleport 120 --scale 1\"'\n",
    "\n",
    "list_of_rand_factors = [1, 2.5]"
   ]
  },
  {
   "cell_type": "code",
   "execution_count": null,
   "id": "c2591d04",
   "metadata": {
    "scrolled": false
   },
   "outputs": [],
   "source": [
    "for w in list_of_rand_factors:\n",
    "    \n",
    "    str_w = \"w\"+str(w).replace(\".\",\"p\")\n",
    "    \n",
    "    # dict result folder\n",
    "    result_folder = f\"../sim_outputs/{city}/{str_w}/\"\n",
    "    \n",
    "    if not os.path.exists(result_folder):\n",
    "        os.makedirs(result_folder, exist_ok=True)\n",
    "\n",
    "    # demands folder\n",
    "    demands_folder = f\"../data/{city}/mixed_routed_paths/mixed_paths_{str_w}/\"\n",
    "    \n",
    "    routed_paths = [demands_folder+f for f in os.listdir(demands_folder) if \".rou.xml\" in f]\n",
    "    print(f\"Routed Path w={w} to simulate: \"+str(len(routed_paths)))\n",
    "    \n",
    "    for route_file in routed_paths:\n",
    "    \n",
    "        !cd {path_sumo_script} && python run_sumo.py -n {net_path} -r {route_file} -s {result_folder} --prefix {str_w} --sumo-opt {opt}\n",
    "    \n",
    "    "
   ]
  },
  {
   "cell_type": "code",
   "execution_count": null,
   "id": "a27ac390",
   "metadata": {},
   "outputs": [],
   "source": []
  },
  {
   "cell_type": "code",
   "execution_count": null,
   "id": "2cc3569c",
   "metadata": {},
   "outputs": [],
   "source": []
  },
  {
   "cell_type": "code",
   "execution_count": null,
   "id": "37927016",
   "metadata": {},
   "outputs": [],
   "source": []
  },
  {
   "cell_type": "code",
   "execution_count": null,
   "id": "1df077a1",
   "metadata": {},
   "outputs": [],
   "source": [
    "routed_paths = [demands_folder+f for f in os.listdir(demands_folder) if \".rou.xml\" in f]\n",
    "\n",
    "routed_paths = [demands_folder+f for f in os.listdir(demands_folder) if \".rou.xml\" in f and int(f.split(\".rou.xml\")[0].split(\"_\")[-2])>4]\n",
    "\n",
    "\n",
    "print(\"Routed Path to simulate: \"+str(len(routed_paths)))\n",
    "print(routed_paths[0])"
   ]
  },
  {
   "cell_type": "code",
   "execution_count": null,
   "id": "110c4792",
   "metadata": {
    "scrolled": false
   },
   "outputs": [],
   "source": [
    "for route_file in routed_paths:\n",
    "    \n",
    "    !cd {path_sumo_script} && python run_sumo.py -n {net_path} -r {route_file} -s {result_folder} --prefix {navigator} --sumo-opt {opt} --speed none\n",
    "    "
   ]
  },
  {
   "cell_type": "code",
   "execution_count": null,
   "id": "0035e9d7",
   "metadata": {},
   "outputs": [],
   "source": []
  }
 ],
 "metadata": {
  "kernelspec": {
   "display_name": "Python 3 (ipykernel)",
   "language": "python",
   "name": "python3"
  },
  "language_info": {
   "codemirror_mode": {
    "name": "ipython",
    "version": 3
   },
   "file_extension": ".py",
   "mimetype": "text/x-python",
   "name": "python",
   "nbconvert_exporter": "python",
   "pygments_lexer": "ipython3",
   "version": "3.9.7"
  }
 },
 "nbformat": 4,
 "nbformat_minor": 5
}
